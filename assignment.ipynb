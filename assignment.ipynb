{
 "cells": [
  {
   "cell_type": "code",
   "execution_count": 23,
   "metadata": {
    "id": "o7x05AgAPUP8"
   },
   "outputs": [],
   "source": [
    "# NumPy and Pandas Assignment\n",
    "# Complete the following tasks by filling in the code where indicated.\n",
    "# Ensure your notebook is well-documented with markdown cells explaining your code and result.\n",
    "\n",
    "import numpy as np\n",
    "import pandas as pd"
   ]
  },
  {
   "cell_type": "code",
   "execution_count": 24,
   "metadata": {},
   "outputs": [],
   "source": [
    "my_array = np.array([1, 2, 3, 4, 5])"
   ]
  },
  {
   "cell_type": "markdown",
   "metadata": {
    "id": "c1zhu_lDPUP9"
   },
   "source": [
    "# Task 1: NumPy Basics"
   ]
  },
  {
   "cell_type": "markdown",
   "metadata": {
    "id": "cSADnVuqPUP9",
    "outputId": "8472fd0a-be9a-4ff5-80fd-74a0d492c126"
   },
   "source": [
    "### Array Creation\n",
    "#### 1. Create an array of 10 zeros but set the fifth element to 1.\n"
   ]
  },
  {
   "cell_type": "code",
   "execution_count": 25,
   "metadata": {},
   "outputs": [],
   "source": [
    " #solution\n",
    "array_zeros = np.zeros(10, dtype=int)\n",
    "array_zeros[4] = 1"
   ]
  },
  {
   "cell_type": "markdown",
   "metadata": {
    "id": "RipsFxj5PUP-",
    "outputId": "af3cec5f-ad17-4715-ab36-0a539d338e80",
    "tags": [
     "parameters"
    ]
   },
   "source": [
    "### 2. Create a 4x4 matrix with values ranging from 0 to 15."
   ]
  },
  {
   "cell_type": "code",
   "execution_count": 26,
   "metadata": {
    "id": "k5VtDwfGPUP-",
    "outputId": "688f56dc-afce-4bfd-f354-624e9483ca15"
   },
   "outputs": [],
   "source": [
    "# solution\n",
    "matrix_4x4 = np.arange(16).reshape(4, 4)"
   ]
  },
  {
   "cell_type": "markdown",
   "metadata": {
    "id": "Fzr2UkPLPUP-",
    "outputId": "09fbb983-e138-4057-de75-a4c1ad46af98"
   },
   "source": [
    "### Array Operations\n",
    "\n",
    "#### 3. Create two NumPy arrays: Perform element-wise addition, subtraction, multiplication, and division.\n",
    "#### arr1: array([[41, 30, 10], [ 6, 35, 23], [23,  9, 10]])\n",
    "#### arr2: array([[4, 29,  2], [5, 13,  3], [24, 16,  7]])"
   ]
  },
  {
   "cell_type": "code",
   "execution_count": 27,
   "metadata": {
    "id": "lexGZzzCPUP_",
    "outputId": "af75bdb4-fc3b-4772-c39f-97ba353b141c"
   },
   "outputs": [],
   "source": [
    "# solution\n",
    "arr1 = np.array([[41, 30, 10], [6, 35, 23], [23, 9, 10]])\n",
    "arr2 = np.array([[4, 29, 2], [5, 13, 3], [24, 16, 7]])\n",
    "# addition: arr1 + arr2\n",
    "addition = arr1 + arr2\n",
    "# subtraction: arr1 - arr2 \n",
    "subtraction = arr1 - arr2\n",
    "# division: arr1 / arr2\n",
    "division = arr1 / arr2\n",
    "# multiplication: arr1 * arr2\n",
    "multiplication = arr1 * arr2"
   ]
  },
  {
   "cell_type": "markdown",
   "metadata": {},
   "source": [
    "### Array Slicing\n",
    "#### 4. Given the array: \n",
    "#### arr = np.array([10, 20, 30, 40, 50, 60, 70, 80, 90, 100])\n",
    "#### Extract elements from index 2 to 6."
   ]
  },
  {
   "cell_type": "code",
   "execution_count": 28,
   "metadata": {},
   "outputs": [],
   "source": [
    "# solution\n",
    "arr = np.array([10, 20, 30, 40, 50, 60, 70, 80, 90, 100])\n",
    "sliced_array = arr[2:7]"
   ]
  },
  {
   "cell_type": "markdown",
   "metadata": {},
   "source": [
    "### Using NumPy Methods\n",
    "#### 5. Convert the array below to a 3×3 NumPy array.\n",
    "#### array([[15, 18, 20], [15, 30, 8], [25, 30, 60]])\n",
    "#### Find the mean, sum, and maximum value."
   ]
  },
  {
   "cell_type": "code",
   "execution_count": 29,
   "metadata": {},
   "outputs": [],
   "source": [
    "# solution\n",
    "input_array = np.array([[15, 18, 20], [15, 30, 8], [25, 30, 60]])\n",
    "mean_value = round(np.mean(input_array), 2)\n",
    "sum_value = np.sum(input_array)\n",
    "max_value = np.max(input_array)\n",
    "\n",
    "# NB: round the mean to two decimal places\n"
   ]
  },
  {
   "cell_type": "markdown",
   "metadata": {
    "id": "vie2MnWzPUP_"
   },
   "source": [
    "# Task 2: Pandas Basics"
   ]
  },
  {
   "cell_type": "markdown",
   "metadata": {
    "id": "rUKKzwUhPUP_",
    "outputId": "25c2c47e-7cc8-47e7-fc3d-97256f7ebc36"
   },
   "source": [
    "### Creating a Pandas Series\n",
    "#### 1. Create a Pandas Series from the list [10, 20, 30, 40, 50] with index labels 'a', 'b', 'c', 'd', 'e'."
   ]
  },
  {
   "cell_type": "code",
   "execution_count": 30,
   "metadata": {
    "id": "ZlpSxf2HPUP_",
    "outputId": "8e5f27b0-534b-4702-af6b-301096951d9d"
   },
   "outputs": [],
   "source": [
    "# solution\n",
    "my_series = pd.Series([10, 20, 30, 40, 50], index=['a', 'b', 'c', 'd', 'e'])"
   ]
  },
  {
   "cell_type": "markdown",
   "metadata": {
    "id": "B2E7-OV5PUP_",
    "outputId": "87c32ef2-137e-46ea-9fb2-ab68bb80e06c"
   },
   "source": [
    "### Reading a CSV File\n",
    "#### 2. Read a CSV file named \"data.csv\" into a Pandas DataFrame. The CSV file has the following columns: \"Name\", \"Age\", \"Salary\"."
   ]
  },
  {
   "cell_type": "code",
   "execution_count": 31,
   "metadata": {},
   "outputs": [],
   "source": [
    "# solution\n",
    "df = pd.read_csv(\"data\\data.csv\")"
   ]
  },
  {
   "cell_type": "markdown",
   "metadata": {
    "id": "0bx-pMjFPUQA",
    "outputId": "d841093f-a189-4904-a6cd-1eddb40792f1"
   },
   "source": [
    "### Slicing a DataFrame\n",
    "#### 3. From the DataFrame created in Exercise 2, select only the first three rows."
   ]
  },
  {
   "cell_type": "code",
   "execution_count": 32,
   "metadata": {
    "id": "2pQ2LSFhPUQA",
    "outputId": "9e7811fb-9a3a-47dd-9c7b-0c7030b2880d"
   },
   "outputs": [],
   "source": [
    "first_three_rows = df.head(3)"
   ]
  },
  {
   "cell_type": "markdown",
   "metadata": {},
   "source": [
    "### Manipulating a DataFrame - Adding a Column\n",
    "#### 4. Add a new column named \"Tax\" to the DataFrame from Exercise 2. The tax should be calculated as 10% of the \"Salary\" column."
   ]
  },
  {
   "cell_type": "code",
   "execution_count": 33,
   "metadata": {
    "id": "NtWyRwfIPUQA",
    "outputId": "1495bd77-e301-494f-f1ab-0fadf74612fc"
   },
   "outputs": [],
   "source": [
    "# solution\n",
    "df['Tax'] = df['Salary'] * 0.1"
   ]
  },
  {
   "cell_type": "markdown",
   "metadata": {},
   "source": [
    "#### Filter the dataframe by the column \"age\" whereby the age is above 36 years"
   ]
  },
  {
   "cell_type": "code",
   "execution_count": 34,
   "metadata": {
    "id": "rQ0oT6jxPUQA",
    "outputId": "2165c104-4cb4-4ea8-e8c3-1d70a03d7ca2"
   },
   "outputs": [
    {
     "name": "stdout",
     "output_type": "stream",
     "text": [
      "      Name  Age  Salary     Tax\n",
      "1      Bob   53   85398  8539.8\n",
      "5    Frank   58   69657  6965.7\n",
      "6    Grace   41   85202  8520.2\n",
      "7   Hannah   38   62421  6242.1\n",
      "8    Isaac   50   74641  7464.1\n",
      "9     Jack   47   38963  3896.3\n",
      "11     Leo   49   41874  4187.4\n",
      "12    Mona   56   34070  3407.0\n",
      "13    Nina   49   91734  9173.4\n",
      "17  Rachel   54   59900  5990.0\n",
      "19    Tina   56   52054  5205.4\n"
     ]
    }
   ],
   "source": [
    "# solution\n",
    "filtered_df = df[df['Age'] > 36]\n",
    "print(filtered_df)"
   ]
  },
  {
   "cell_type": "code",
   "execution_count": 35,
   "metadata": {},
   "outputs": [],
   "source": [
    "\n",
    "\n",
    "df = pd.DataFrame({\n",
    "    \"Name\": [\"Alice\", \"Bob\", \"Charlie\"],\n",
    "    \"Age\": [25, 30, 35],\n",
    "    \"Score\": [85, 90, 88],  # Add the 'Score' column\n",
    "})\n"
   ]
  },
  {
   "cell_type": "code",
   "execution_count": 36,
   "metadata": {},
   "outputs": [],
   "source": [
    "df = pd.DataFrame({\n",
    "    \"Name\": [\"Alice\", \"Bob\", \"Charlie\"],\n",
    "    \"Age\": [25, 30, 35],\n",
    "    \"Salary\": [50000, 60000, 70000],\n",
    "    \"Tax\": [5000, 6000, 7000],\n",
    "    \"Score\": [85, 90, 88]  # Add the missing 'Score' column\n",
    "})\n"
   ]
  },
  {
   "cell_type": "markdown",
   "metadata": {
    "id": "N93ktZ39PUQA"
   },
   "source": [
    "# Task 3: Data Analysis with Pandas"
   ]
  },
  {
   "cell_type": "markdown",
   "metadata": {
    "id": "AjtmFP3GPUQB",
    "outputId": "0980655e-35c5-4ae0-a640-3acab029e694"
   },
   "source": [
    "### Aggregation - Compute Total and Mean Sales\n",
    "#### 1. Given a dataset of sales transactions, compute the total and mean sales per region."
   ]
  },
  {
   "cell_type": "code",
   "execution_count": 37,
   "metadata": {
    "id": "qT-ldaKpPUQB",
    "outputId": "918cf5fc-705d-464b-b53f-004f52f20dbc"
   },
   "outputs": [
    {
     "data": {
      "text/html": [
       "<div>\n",
       "<style scoped>\n",
       "    .dataframe tbody tr th:only-of-type {\n",
       "        vertical-align: middle;\n",
       "    }\n",
       "\n",
       "    .dataframe tbody tr th {\n",
       "        vertical-align: top;\n",
       "    }\n",
       "\n",
       "    .dataframe thead th {\n",
       "        text-align: right;\n",
       "    }\n",
       "</style>\n",
       "<table border=\"1\" class=\"dataframe\">\n",
       "  <thead>\n",
       "    <tr style=\"text-align: right;\">\n",
       "      <th></th>\n",
       "      <th>Region</th>\n",
       "      <th>Sales</th>\n",
       "    </tr>\n",
       "  </thead>\n",
       "  <tbody>\n",
       "    <tr>\n",
       "      <th>0</th>\n",
       "      <td>North</td>\n",
       "      <td>1000</td>\n",
       "    </tr>\n",
       "    <tr>\n",
       "      <th>1</th>\n",
       "      <td>South</td>\n",
       "      <td>1500</td>\n",
       "    </tr>\n",
       "    <tr>\n",
       "      <th>2</th>\n",
       "      <td>North</td>\n",
       "      <td>1200</td>\n",
       "    </tr>\n",
       "    <tr>\n",
       "      <th>3</th>\n",
       "      <td>West</td>\n",
       "      <td>1800</td>\n",
       "    </tr>\n",
       "    <tr>\n",
       "      <th>4</th>\n",
       "      <td>South</td>\n",
       "      <td>1300</td>\n",
       "    </tr>\n",
       "  </tbody>\n",
       "</table>\n",
       "</div>"
      ],
      "text/plain": [
       "  Region  Sales\n",
       "0  North   1000\n",
       "1  South   1500\n",
       "2  North   1200\n",
       "3   West   1800\n",
       "4  South   1300"
      ]
     },
     "execution_count": 37,
     "metadata": {},
     "output_type": "execute_result"
    }
   ],
   "source": [
    "# Sample Data\n",
    "sales_data = pd.DataFrame({\n",
    "    \"Region\": [\"North\", \"South\", \"North\", \"West\", \"South\", \"West\"],\n",
    "    \"Sales\": [1000, 1500, 1200, 1800, 1300, 1700]\n",
    "})\n",
    "sales_data.head()"
   ]
  },
  {
   "cell_type": "code",
   "execution_count": 38,
   "metadata": {},
   "outputs": [],
   "source": [
    "# solution\n",
    "region_total_sales = sales_data.groupby(\"Region\")[\"Sales\"].sum()\n",
    "region_mean_sales = sales_data.groupby(\"Region\")[\"Sales\"].mean()"
   ]
  },
  {
   "cell_type": "markdown",
   "metadata": {
    "id": "ynk6eTfoPUQB",
    "outputId": "f5d51302-fb1e-4524-88c6-1089a1aa1dc5"
   },
   "source": [
    "### Merging - Combine Customer and Order Data\n",
    "#### 2. Merge customers and orders data based on CustomerID."
   ]
  },
  {
   "cell_type": "code",
   "execution_count": 39,
   "metadata": {
    "id": "RcbdmPYdPUQB",
    "outputId": "eb10b536-d73a-406e-af20-966cba72ce4d"
   },
   "outputs": [
    {
     "name": "stdout",
     "output_type": "stream",
     "text": [
      "   CustomerID CustomerName\n",
      "0           1        Alice\n",
      "1           2          Bob    OrderID  CustomerID  Amount\n",
      "0      101           1     250\n",
      "1      102           2     400\n"
     ]
    }
   ],
   "source": [
    "customers = pd.DataFrame({\n",
    "    \"CustomerID\": [1, 2, 3, 4],\n",
    "    \"CustomerName\": [\"Alice\", \"Bob\", \"Charlie\", \"David\"]\n",
    "})\n",
    "\n",
    "orders = pd.DataFrame({\n",
    "    \"OrderID\": [101, 102, 103, 104],\n",
    "    \"CustomerID\": [1, 2, 2, 4],\n",
    "    \"Amount\": [250, 400, 600, 150]\n",
    "})\n",
    "\n",
    "print(customers.head(2), orders.head(2))"
   ]
  },
  {
   "cell_type": "code",
   "execution_count": 40,
   "metadata": {
    "id": "S8Pd45ksPUQB"
   },
   "outputs": [],
   "source": [
    "# solution\n",
    "merged_data = pd.merge(customers, orders, on=\"CustomerID\", how=\"inner\")"
   ]
  },
  {
   "cell_type": "markdown",
   "metadata": {},
   "source": [
    "### Joining - Left Join Employee Data\n",
    "#### 4. Perform a left join between employees and departments on DeptID."
   ]
  },
  {
   "cell_type": "code",
   "execution_count": 41,
   "metadata": {},
   "outputs": [
    {
     "name": "stdout",
     "output_type": "stream",
     "text": [
      "   EmpID EmpName  DeptID\n",
      "0    101    John       1\n",
      "1    102    Jane       2    DeptID DeptName\n",
      "0       1       HR\n",
      "1       2  Finance\n"
     ]
    }
   ],
   "source": [
    "# NB: No test for this. Just an exercise for you to play around with\n",
    "employees = pd.DataFrame({\n",
    "    \"EmpID\": [101, 102, 103, 104],\n",
    "    \"EmpName\": [\"John\", \"Jane\", \"Alice\", \"Bob\"],\n",
    "    \"DeptID\": [1, 2, 2, 3]\n",
    "})\n",
    "\n",
    "departments = pd.DataFrame({\n",
    "    \"DeptID\": [1, 2],\n",
    "    \"DeptName\": [\"HR\", \"Finance\"]\n",
    "})\n",
    "\n",
    "print(employees.head(2), departments.head(2))"
   ]
  },
  {
   "cell_type": "code",
   "execution_count": 42,
   "metadata": {},
   "outputs": [],
   "source": [
    "# solution\n",
    "left_joined_data = pd.merge(employees, departments, on=\"DeptID\", how=\"left\")"
   ]
  },
  {
   "cell_type": "markdown",
   "metadata": {},
   "source": [
    "### Pivot Table - Summarize Sales Data\n",
    "#### 4. Create a pivot table showing total sales for each Region and Product."
   ]
  },
  {
   "cell_type": "code",
   "execution_count": 43,
   "metadata": {},
   "outputs": [
    {
     "data": {
      "text/html": [
       "<div>\n",
       "<style scoped>\n",
       "    .dataframe tbody tr th:only-of-type {\n",
       "        vertical-align: middle;\n",
       "    }\n",
       "\n",
       "    .dataframe tbody tr th {\n",
       "        vertical-align: top;\n",
       "    }\n",
       "\n",
       "    .dataframe thead th {\n",
       "        text-align: right;\n",
       "    }\n",
       "</style>\n",
       "<table border=\"1\" class=\"dataframe\">\n",
       "  <thead>\n",
       "    <tr style=\"text-align: right;\">\n",
       "      <th></th>\n",
       "      <th>Region</th>\n",
       "      <th>Product</th>\n",
       "      <th>Sales</th>\n",
       "    </tr>\n",
       "  </thead>\n",
       "  <tbody>\n",
       "    <tr>\n",
       "      <th>0</th>\n",
       "      <td>North</td>\n",
       "      <td>A</td>\n",
       "      <td>200</td>\n",
       "    </tr>\n",
       "    <tr>\n",
       "      <th>1</th>\n",
       "      <td>North</td>\n",
       "      <td>B</td>\n",
       "      <td>300</td>\n",
       "    </tr>\n",
       "  </tbody>\n",
       "</table>\n",
       "</div>"
      ],
      "text/plain": [
       "  Region Product  Sales\n",
       "0  North       A    200\n",
       "1  North       B    300"
      ]
     },
     "execution_count": 43,
     "metadata": {},
     "output_type": "execute_result"
    }
   ],
   "source": [
    "sales_pivot_data = pd.DataFrame({\n",
    "    \"Region\": [\"North\", \"North\", \"South\", \"South\", \"West\", \"West\"],\n",
    "    \"Product\": [\"A\", \"B\", \"A\", \"B\", \"A\", \"B\"],\n",
    "    \"Sales\": [200, 300, 150, 400, 250, 500]\n",
    "})\n",
    "\n",
    "sales_pivot_data.head(2)"
   ]
  },
  {
   "cell_type": "code",
   "execution_count": 44,
   "metadata": {},
   "outputs": [],
   "source": [
    "# solution\n",
    "pivot_table = sales_pivot_data.pivot_table(values=\"Sales\", index=\"Region\", columns=\"Product\", aggfunc=\"sum\")"
   ]
  }
 ],
 "metadata": {
  "colab": {
   "provenance": []
  },
  "kernelspec": {
   "display_name": "Python 3 (ipykernel)",
   "language": "python",
   "name": "python3"
  },
  "language_info": {
   "codemirror_mode": {
    "name": "ipython",
    "version": 3
   },
   "file_extension": ".py",
   "mimetype": "text/x-python",
   "name": "python",
   "nbconvert_exporter": "python",
   "pygments_lexer": "ipython3",
   "version": "3.11.5"
  }
 },
 "nbformat": 4,
 "nbformat_minor": 1
}
